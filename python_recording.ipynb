{
 "cells": [
  {
   "cell_type": "markdown",
   "metadata": {},
   "source": [
    "这本笔记用来记录关于python一些值得注意的知识点"
   ]
  },
  {
   "cell_type": "markdown",
   "metadata": {},
   "source": [
    "## 原地操作(in place)\n",
    "原地操作指的是直接修改变量，不产生新的变量.   \n",
    "比如说：`a + b`直接调用 `__add__`，而 `a += b` 调用是的 `__iadd__`。后者是原地操作，要求数据是可变类型，不可类型的数据没有`__iadd__`方法(如果没有，则调用`__add__`。另外，`operator.add()`和`operator.iadd()`也是类似的区别。以下是例子："
   ]
  },
  {
   "cell_type": "code",
   "execution_count": 2,
   "metadata": {},
   "outputs": [
    {
     "data": {
      "text/plain": [
       "1"
      ]
     },
     "execution_count": 2,
     "metadata": {},
     "output_type": "execute_result"
    }
   ],
   "source": [
    "import operator\n",
    "a = 1\n",
    "operator.iadd(a, 2) # 3\n",
    "a # 1，因为ints是不可变类型，没有__iadd__，调用的是__add__"
   ]
  },
  {
   "cell_type": "code",
   "execution_count": 6,
   "metadata": {},
   "outputs": [
    {
     "data": {
      "text/plain": [
       "['a', 'b']"
      ]
     },
     "execution_count": 6,
     "metadata": {},
     "output_type": "execute_result"
    }
   ],
   "source": [
    "b = ['a']\n",
    "operator.iadd(b, ['b']) # lists是可变类型，有__iadd__方法"
   ]
  },
  {
   "cell_type": "markdown",
   "metadata": {},
   "source": [
    "## 可迭代对象、迭代器和生成器\n",
    "[for循环本质](https://www.cnblogs.com/linshuhui/p/8986094.html) \n",
    "[可迭代对象、迭代器、生成器](https://www.cnblogs.com/fmgao-technology/p/9064301.html)  \n",
    "在用`for...in...`语句进行循环时，in后面的对象要求是可迭代对象，那么我们将可迭代对象(iterable)定义为可以直接用于for循环的对象，常见的有str, list, tuple, dict, set。  \n",
    "**可迭代对象**：实现了`__iter__()`方法的对象  \n",
    "**迭代器(iterator)** ：实现了`__iter__()`和`__next__()`方法的对象，可以被next()方法调用获取下一个元素，因此，迭代器一定是可迭代对象，可迭代对象不一定是迭代器，但是可以通过`iter()`函数变成迭代器  \n",
    "`bb = [x for x in range(10)]\n",
    "cc = iter(bb)\n",
    "cc.next()`\n",
    "所以for循环的实质是：先调用`__iter__()`方法，将数据转换成一个迭代器，然后调用迭代器的`__next__()`方法，并且捕获 StopIteration异常。  \n",
    "可以通过以下代码实现for循环功能："
   ]
  },
  {
   "cell_type": "code",
   "execution_count": 20,
   "metadata": {},
   "outputs": [
    {
     "name": "stdout",
     "output_type": "stream",
     "text": [
      "1\n",
      "2\n",
      "3\n"
     ]
    }
   ],
   "source": [
    "x = [1, 2, 3]\n",
    "x_i = x.__iter__()\n",
    "try:\n",
    "    while True:\n",
    "        print(x_i.__next__())\n",
    "except StopIteration:\n",
    "    pass"
   ]
  },
  {
   "cell_type": "markdown",
   "metadata": {},
   "source": [
    "**生成器(generator)** ：是一个能返回迭代器的函数，定义一个迭代算法，调用这个函数可以得到一个迭代器，生成器中的yield语句相当于一个断点，执行到此返回一个值后暂停。通过next()函数调用。生成器可以看作是一种迭代器"
   ]
  },
  {
   "cell_type": "code",
   "execution_count": 21,
   "metadata": {},
   "outputs": [
    {
     "name": "stdout",
     "output_type": "stream",
     "text": [
      "<generator object f at 0x000001D15B1CA7C8>\n"
     ]
    },
    {
     "data": {
      "text/plain": [
       "1"
      ]
     },
     "execution_count": 21,
     "metadata": {},
     "output_type": "execute_result"
    }
   ],
   "source": [
    "def f(n):\n",
    "    for i in range(n):\n",
    "        yield i\n",
    "        \n",
    "a = f(10)\n",
    "print(a) # <generator object f at 0x0000025D9BA7D1B0>\n",
    "next(a) # 0\n",
    "next(a) # 1"
   ]
  },
  {
   "cell_type": "markdown",
   "metadata": {},
   "source": [
    "另外，还有生成器表达式，只要将列表推导式的[]换成()即可"
   ]
  },
  {
   "cell_type": "code",
   "execution_count": 22,
   "metadata": {},
   "outputs": [
    {
     "name": "stdout",
     "output_type": "stream",
     "text": [
      "<generator object <genexpr> at 0x000001D15B1CA750>\n"
     ]
    }
   ],
   "source": [
    "b = (x * 2 for x in range(10))\n",
    "print(b)"
   ]
  },
  {
   "cell_type": "markdown",
   "metadata": {},
   "source": [
    "## 函数参数的位置\n",
    "函数参数分为（按顺序）：必选参数，默认参数，可变参数，关键字参数和命名关键字参数，直接看例子"
   ]
  },
  {
   "cell_type": "code",
   "execution_count": 3,
   "metadata": {},
   "outputs": [],
   "source": [
    "def f1(a, b, c = 0, *args, d, **kwargs):\n",
    "    print('a = ', a, 'b = ', b, 'c = ', c, 'args = ', args, 'd = ', d,'kwargs = ', kwargs)\n",
    "# a, b 是必选参数\n",
    "# c 是默认参数，可以不写\n",
    "# *args 是可变参数，多余的非关键字参数以一个元组的方式组合在一起，变量名args可以换\n",
    "# d 是关键字参数，如果写在*args或者*之后，必须要以关键字的形式显式写出来，不然会报错\n",
    "# **kwargs 是命名关键字参数，多余的关键字参数以一个字典的方式组合在一起，变量名kwargs可以换"
   ]
  },
  {
   "cell_type": "code",
   "execution_count": 4,
   "metadata": {},
   "outputs": [
    {
     "ename": "TypeError",
     "evalue": "f1() missing 1 required keyword-only argument: 'd'",
     "output_type": "error",
     "traceback": [
      "\u001b[1;31m---------------------------------------------------------------------------\u001b[0m",
      "\u001b[1;31mTypeError\u001b[0m                                 Traceback (most recent call last)",
      "\u001b[1;32m<ipython-input-4-4f65b69a81af>\u001b[0m in \u001b[0;36m<module>\u001b[1;34m\u001b[0m\n\u001b[1;32m----> 1\u001b[1;33m \u001b[0mf1\u001b[0m\u001b[1;33m(\u001b[0m\u001b[1;36m1\u001b[0m\u001b[1;33m,\u001b[0m \u001b[1;36m2\u001b[0m\u001b[1;33m,\u001b[0m \u001b[1;36m3\u001b[0m\u001b[1;33m)\u001b[0m\u001b[1;33m\u001b[0m\u001b[1;33m\u001b[0m\u001b[0m\n\u001b[0m",
      "\u001b[1;31mTypeError\u001b[0m: f1() missing 1 required keyword-only argument: 'd'"
     ]
    }
   ],
   "source": [
    "f1(1, 2, 3) # TypeError, 少一个关键字参数d"
   ]
  },
  {
   "cell_type": "code",
   "execution_count": 5,
   "metadata": {},
   "outputs": [
    {
     "name": "stdout",
     "output_type": "stream",
     "text": [
      "a =  1 b =  2 c =  3 args =  () d =  0 kwargs =  {}\n"
     ]
    }
   ],
   "source": [
    "f1(1, 2, 3, d = 0)"
   ]
  }
 ],
 "metadata": {
  "kernelspec": {
   "display_name": "Python [conda env:root] *",
   "language": "python",
   "name": "conda-root-py"
  },
  "language_info": {
   "codemirror_mode": {
    "name": "ipython",
    "version": 3
   },
   "file_extension": ".py",
   "mimetype": "text/x-python",
   "name": "python",
   "nbconvert_exporter": "python",
   "pygments_lexer": "ipython3",
   "version": "3.7.3"
  }
 },
 "nbformat": 4,
 "nbformat_minor": 2
}
